{
 "cells": [
  {
   "cell_type": "markdown",
   "metadata": {},
   "source": [
    "<h1 align=center><font size = 5>CSC 419 SEQUENTIAL PROGRAMMING WITH PYTHON</font></h1>"
   ]
  },
  {
   "cell_type": "markdown",
   "metadata": {},
   "source": [
    "## WELCOME TO THE FIRST LECTURE NOTEBOOK\n",
    "WE SHALL COVER THE FOLLOWING TOPICS IN THIS NOTEBOOK\n",
    "1. General Introduction of Python Language\n",
    "2. Simple Mathematical operations in Python\n",
    "3. Inrtoduction String and operations on strings\n",
    "4. Python List and operations on List\n",
    "5. Dictionaries in Python\n",
    "6. Program Control Flow (if, elif and else statements)"
   ]
  },
  {
   "cell_type": "code",
   "execution_count": 2,
   "metadata": {},
   "outputs": [
    {
     "name": "stdout",
     "output_type": "stream",
     "text": [
      "Welcome\n"
     ]
    }
   ],
   "source": [
    "print ('Welcome')"
   ]
  },
  {
   "cell_type": "markdown",
   "metadata": {},
   "source": [
    "### Addition, Substraction, Division Modulu"
   ]
  },
  {
   "cell_type": "code",
   "execution_count": 26,
   "metadata": {},
   "outputs": [],
   "source": [
    "my_salary = 1000\n",
    "EdoTaxRate = 0.1\n",
    "\n",
    "firstNum = 1000\n",
    "secondNum = 2000\n"
   ]
  },
  {
   "cell_type": "code",
   "execution_count": 27,
   "metadata": {},
   "outputs": [
    {
     "name": "stdout",
     "output_type": "stream",
     "text": [
      "3000\n"
     ]
    }
   ],
   "source": [
    "summ = firstNum + secondNum\n",
    "print(summ)"
   ]
  },
  {
   "cell_type": "code",
   "execution_count": 28,
   "metadata": {},
   "outputs": [
    {
     "name": "stdout",
     "output_type": "stream",
     "text": [
      "summ\n"
     ]
    }
   ],
   "source": [
    "summ = firstNum + secondNum\n",
    "print('summ')"
   ]
  },
  {
   "cell_type": "code",
   "execution_count": 29,
   "metadata": {},
   "outputs": [
    {
     "name": "stdout",
     "output_type": "stream",
     "text": [
      "2000000\n"
     ]
    }
   ],
   "source": [
    "summ = firstNum * secondNum\n",
    "print(summ)"
   ]
  },
  {
   "cell_type": "code",
   "execution_count": 30,
   "metadata": {},
   "outputs": [
    {
     "name": "stdout",
     "output_type": "stream",
     "text": [
      "0.5\n"
     ]
    }
   ],
   "source": [
    "summ = firstNum / secondNum\n",
    "print(summ)"
   ]
  },
  {
   "cell_type": "code",
   "execution_count": 31,
   "metadata": {},
   "outputs": [
    {
     "name": "stdout",
     "output_type": "stream",
     "text": [
      "-1000\n"
     ]
    }
   ],
   "source": [
    "summ = firstNum - secondNum\n",
    "print(summ)"
   ]
  },
  {
   "cell_type": "code",
   "execution_count": 32,
   "metadata": {},
   "outputs": [
    {
     "name": "stdout",
     "output_type": "stream",
     "text": [
      "2.3333333333333335\n",
      "1\n"
     ]
    }
   ],
   "source": [
    "a = 7\n",
    "b =3\n",
    "print(a/b)\n",
    "print (a%b)"
   ]
  },
  {
   "cell_type": "code",
   "execution_count": 33,
   "metadata": {},
   "outputs": [
    {
     "name": "stdout",
     "output_type": "stream",
     "text": [
      "8\n"
     ]
    }
   ],
   "source": [
    "print(2**3)"
   ]
  },
  {
   "cell_type": "code",
   "execution_count": 34,
   "metadata": {},
   "outputs": [
    {
     "name": "stdout",
     "output_type": "stream",
     "text": [
      "343\n"
     ]
    }
   ],
   "source": [
    "print(a**3)"
   ]
  },
  {
   "cell_type": "code",
   "execution_count": 35,
   "metadata": {},
   "outputs": [
    {
     "name": "stdout",
     "output_type": "stream",
     "text": [
      "105\n"
     ]
    }
   ],
   "source": [
    "print(2+10*10+3)"
   ]
  },
  {
   "cell_type": "code",
   "execution_count": 36,
   "metadata": {},
   "outputs": [
    {
     "name": "stdout",
     "output_type": "stream",
     "text": [
      "156\n"
     ]
    }
   ],
   "source": [
    "print((2+10)*(10+3))"
   ]
  },
  {
   "cell_type": "markdown",
   "metadata": {},
   "source": [
    "quadratic eqns, distance two points"
   ]
  },
  {
   "cell_type": "markdown",
   "metadata": {},
   "source": [
    "## Strings"
   ]
  },
  {
   "cell_type": "code",
   "execution_count": 37,
   "metadata": {},
   "outputs": [
    {
     "data": {
      "text/plain": [
       "12"
      ]
     },
     "execution_count": 37,
     "metadata": {},
     "output_type": "execute_result"
    }
   ],
   "source": [
    "myName = \"David Acheme\"\n",
    "yourName = 'David Acheme'\n",
    "len(myName)"
   ]
  },
  {
   "cell_type": "markdown",
   "metadata": {},
   "source": [
    "# Indexing"
   ]
  },
  {
   "cell_type": "code",
   "execution_count": 38,
   "metadata": {},
   "outputs": [
    {
     "data": {
      "text/plain": [
       "'e'"
      ]
     },
     "execution_count": 38,
     "metadata": {},
     "output_type": "execute_result"
    }
   ],
   "source": [
    "myName[11]"
   ]
  },
  {
   "cell_type": "code",
   "execution_count": 39,
   "metadata": {},
   "outputs": [
    {
     "data": {
      "text/plain": [
       "' '"
      ]
     },
     "execution_count": 39,
     "metadata": {},
     "output_type": "execute_result"
    }
   ],
   "source": [
    "myName[5]"
   ]
  },
  {
   "cell_type": "markdown",
   "metadata": {},
   "source": [
    "## Slicing"
   ]
  },
  {
   "cell_type": "code",
   "execution_count": 40,
   "metadata": {},
   "outputs": [
    {
     "data": {
      "text/plain": [
       "'ghijkl'"
      ]
     },
     "execution_count": 40,
     "metadata": {},
     "output_type": "execute_result"
    }
   ],
   "source": [
    "my = 'abcdefghijkl'\n",
    "my[0:3]\n",
    "my[3:6]\n",
    "my[6:]"
   ]
  },
  {
   "cell_type": "code",
   "execution_count": 41,
   "metadata": {},
   "outputs": [
    {
     "data": {
      "text/plain": [
       "'acegik'"
      ]
     },
     "execution_count": 41,
     "metadata": {},
     "output_type": "execute_result"
    }
   ],
   "source": [
    "my = 'abcdefghijkl'\n",
    "#my[start:stop:step]\n",
    "my[0: :2]"
   ]
  },
  {
   "cell_type": "code",
   "execution_count": 42,
   "metadata": {},
   "outputs": [
    {
     "data": {
      "text/plain": [
       "'adgj'"
      ]
     },
     "execution_count": 42,
     "metadata": {},
     "output_type": "execute_result"
    }
   ],
   "source": [
    "my = 'abcdefghijkl'\n",
    "#my[start:stop:step]\n",
    "my[0:11:3]"
   ]
  },
  {
   "cell_type": "code",
   "execution_count": 43,
   "metadata": {},
   "outputs": [
    {
     "data": {
      "text/plain": [
       "'lkjihgfedcba'"
      ]
     },
     "execution_count": 43,
     "metadata": {},
     "output_type": "execute_result"
    }
   ],
   "source": [
    "my = 'abcdefghijkl'\n",
    "my[: :-1]"
   ]
  },
  {
   "cell_type": "markdown",
   "metadata": {},
   "source": [
    "## Concatenation of Strings"
   ]
  },
  {
   "cell_type": "code",
   "execution_count": 44,
   "metadata": {},
   "outputs": [
    {
     "name": "stdout",
     "output_type": "stream",
     "text": [
      "The sum of A and B is a+b\n"
     ]
    }
   ],
   "source": [
    "a =5\n",
    "b =6\n",
    "sum = \"a+b\"\n",
    "print (\"The sum of A and B is \" + sum)"
   ]
  },
  {
   "cell_type": "code",
   "execution_count": 45,
   "metadata": {},
   "outputs": [
    {
     "name": "stdout",
     "output_type": "stream",
     "text": [
      "bcdefghijkl\n"
     ]
    }
   ],
   "source": [
    "my = 'abcdefghijkl'\n",
    "#Replacing the fisrt value 'a' with 'r'\n",
    "myb = my[1:]\n",
    "print(myb)"
   ]
  },
  {
   "cell_type": "code",
   "execution_count": 46,
   "metadata": {},
   "outputs": [
    {
     "name": "stdout",
     "output_type": "stream",
     "text": [
      "rbcdefghijkl\n"
     ]
    }
   ],
   "source": [
    "print(\"r\" + myb)"
   ]
  },
  {
   "cell_type": "code",
   "execution_count": 47,
   "metadata": {},
   "outputs": [
    {
     "data": {
      "text/plain": [
       "'bcdefghijklbcdefghijklbcdefghijklbcdefghijklbcdefghijklbcdefghijklbcdefghijklbcdefghijklbcdefghijklbcdefghijklbcdefghijklbcdefghijklbcdefghijklbcdefghijklbcdefghijklbcdefghijklbcdefghijklbcdefghijklbcdefghijklbcdefghijklbcdefghijklbcdefghijklbcdefghijklbcdefghijklbcdefghijklbcdefghijklbcdefghijklbcdefghijklbcdefghijklbcdefghijklbcdefghijklbcdefghijklbcdefghijklbcdefghijklbcdefghijklbcdefghijklbcdefghijklbcdefghijklbcdefghijklbcdefghijklbcdefghijklbcdefghijklbcdefghijklbcdefghijklbcdefghijklbcdefghijklbcdefghijklbcdefghijklbcdefghijklbcdefghijkl'"
      ]
     },
     "execution_count": 47,
     "metadata": {},
     "output_type": "execute_result"
    }
   ],
   "source": [
    "# You can Multiply strings in Python\n",
    "myb*50"
   ]
  },
  {
   "cell_type": "markdown",
   "metadata": {},
   "source": [
    "## Common Functions in Python"
   ]
  },
  {
   "cell_type": "code",
   "execution_count": null,
   "metadata": {},
   "outputs": [],
   "source": [
    "len()\n",
    "upper()\n",
    "lower()\n",
    "split()"
   ]
  },
  {
   "cell_type": "code",
   "execution_count": 50,
   "metadata": {},
   "outputs": [
    {
     "data": {
      "text/plain": [
       "550"
      ]
     },
     "execution_count": 50,
     "metadata": {},
     "output_type": "execute_result"
    }
   ],
   "source": [
    "# len Returns the lenght of the string\n",
    "len(myb*50) "
   ]
  },
  {
   "cell_type": "code",
   "execution_count": 51,
   "metadata": {},
   "outputs": [
    {
     "name": "stdout",
     "output_type": "stream",
     "text": [
      "BCDEFGHIJKL\n"
     ]
    }
   ],
   "source": [
    "# uppercases\n",
    "mybb = myb.upper()\n",
    "print(mybb)"
   ]
  },
  {
   "cell_type": "code",
   "execution_count": 52,
   "metadata": {},
   "outputs": [
    {
     "name": "stdout",
     "output_type": "stream",
     "text": [
      "bcdefghijkl\n"
     ]
    }
   ],
   "source": [
    "#lowercases\n",
    "mybbb = mybb.lower()\n",
    "print(mybbb)\n"
   ]
  },
  {
   "cell_type": "code",
   "execution_count": 53,
   "metadata": {},
   "outputs": [
    {
     "data": {
      "text/plain": [
       "['My',\n",
       " 'a',\n",
       " 'House',\n",
       " 'a',\n",
       " 'is',\n",
       " 'at',\n",
       " 'Number',\n",
       " '5,',\n",
       " 'Mopol',\n",
       " 'a',\n",
       " '60',\n",
       " 'Road',\n",
       " 'Iyamho']"
      ]
     },
     "execution_count": 53,
     "metadata": {},
     "output_type": "execute_result"
    }
   ],
   "source": [
    "# Split\n",
    "myv = \" My a House a is at Number 5, Mopol a 60 Road Iyamho\"\n",
    "myv.split()"
   ]
  },
  {
   "cell_type": "code",
   "execution_count": 54,
   "metadata": {},
   "outputs": [
    {
     "data": {
      "text/plain": [
       "[' My ', ' House ', ' is ', 't Number 5, Mopol ', ' 60 Ro', 'd Iy', 'mho']"
      ]
     },
     "execution_count": 54,
     "metadata": {},
     "output_type": "execute_result"
    }
   ],
   "source": [
    "myv.split('a')"
   ]
  },
  {
   "cell_type": "markdown",
   "metadata": {},
   "source": [
    "## CONTROL FLOW"
   ]
  },
  {
   "cell_type": "code",
   "execution_count": 55,
   "metadata": {},
   "outputs": [
    {
     "ename": "SyntaxError",
     "evalue": "invalid syntax (<ipython-input-55-e1e2dea977e0>, line 1)",
     "output_type": "error",
     "traceback": [
      "\u001b[1;36m  File \u001b[1;32m\"<ipython-input-55-e1e2dea977e0>\"\u001b[1;36m, line \u001b[1;32m1\u001b[0m\n\u001b[1;33m    if Statement\u001b[0m\n\u001b[1;37m                ^\u001b[0m\n\u001b[1;31mSyntaxError\u001b[0m\u001b[1;31m:\u001b[0m invalid syntax\n"
     ]
    }
   ],
   "source": [
    "if Statement\n",
    "elif"
   ]
  },
  {
   "cell_type": "code",
   "execution_count": 14,
   "metadata": {},
   "outputs": [
    {
     "name": "stdout",
     "output_type": "stream",
     "text": [
      "Hello\n"
     ]
    }
   ],
   "source": [
    "x = 13\n",
    "if x >=10:\n",
    "    print (\"Hello\")"
   ]
  },
  {
   "cell_type": "code",
   "execution_count": 1,
   "metadata": {},
   "outputs": [
    {
     "name": "stdout",
     "output_type": "stream",
     "text": [
      "Enter your Age 23\n",
      "Enter your Age 55\n",
      "2355\n"
     ]
    }
   ],
   "source": [
    "UserAge = input(\"Enter your Age \")\n",
    "UserAgeOne = input(\"Enter your Age \")\n",
    "print(UserAge+UserAgeOne)"
   ]
  },
  {
   "cell_type": "code",
   "execution_count": 6,
   "metadata": {},
   "outputs": [
    {
     "name": "stdout",
     "output_type": "stream",
     "text": [
      "Enter your Age34\n",
      "Enter your Age34\n",
      "68\n"
     ]
    }
   ],
   "source": [
    "age1 = int(input(\"Enter your Age\"))\n",
    "age2 = int(input(\"Enter your Age\"))\n",
    "print(age1+age2)"
   ]
  },
  {
   "cell_type": "code",
   "execution_count": 12,
   "metadata": {},
   "outputs": [
    {
     "name": "stdout",
     "output_type": "stream",
     "text": [
      "enter first number32\n",
      "enter second number34\n",
      "enter third number234\n",
      "The average of the three numbers is:\n",
      "100.0\n"
     ]
    }
   ],
   "source": [
    "firstNum = int(input(\"enter first number\"))\n",
    "\n",
    "secondNum = int(input(\"enter second number\"))\n",
    "\n",
    "ThirdNum = int(input(\"enter third number\"))\n",
    "average = (firstNum+secondNum+ThirdNum)/3\n",
    "\n",
    "print(\"The average of the three numbers is:\")\n",
    "print(average)"
   ]
  },
  {
   "cell_type": "code",
   "execution_count": 15,
   "metadata": {},
   "outputs": [
    {
     "name": "stdout",
     "output_type": "stream",
     "text": [
      "Enter your Age34\n",
      "You can enter\n"
     ]
    }
   ],
   "source": [
    "UserAge = int(input(\"Enter your Age\")) \n",
    "if UserAge >=18:\n",
    "        print(\"You can enter\")"
   ]
  },
  {
   "cell_type": "code",
   "execution_count": 1,
   "metadata": {},
   "outputs": [
    {
     "name": "stdout",
     "output_type": "stream",
     "text": [
      "Enter your AgeJohn\n",
      "Welcome Bro, I Have been Expecting You\n"
     ]
    }
   ],
   "source": [
    "UserName = input(\"Enter your Age\")\n",
    "if UserName ==\"John\":\n",
    "        print(\"Welcome Bro, I Have been Expecting You\")"
   ]
  },
  {
   "cell_type": "code",
   "execution_count": 3,
   "metadata": {},
   "outputs": [
    {
     "name": "stdout",
     "output_type": "stream",
     "text": [
      "Enter your Age14\n",
      "You are too young to enter this site\n"
     ]
    }
   ],
   "source": [
    "UserAge = int(input(\"Enter your Age \")) \n",
    "if UserAge >=18:\n",
    "        print(\"You can enter\")\n",
    "else:\n",
    "        print(\"You are too young to enter this site\")"
   ]
  },
  {
   "cell_type": "code",
   "execution_count": 5,
   "metadata": {},
   "outputs": [
    {
     "name": "stdout",
     "output_type": "stream",
     "text": [
      "Enter your AgePeter\n",
      "I don't Know You\n"
     ]
    }
   ],
   "source": [
    "UserName = input(\"Enter your Age\")\n",
    "if UserName ==\"John\":\n",
    "        print(\"Welcome Bro, I Have been Expecting You\")\n",
    "else:\n",
    "        print(\"I don't Know You\")"
   ]
  },
  {
   "cell_type": "markdown",
   "metadata": {},
   "source": [
    "## ELSE .....If in Python"
   ]
  },
  {
   "cell_type": "code",
   "execution_count": 9,
   "metadata": {},
   "outputs": [
    {
     "name": "stdout",
     "output_type": "stream",
     "text": [
      "Enter your NameNicho\n",
      "I don't Know you\n"
     ]
    }
   ],
   "source": [
    "UserName = input(\"Enter your Name\")\n",
    "if UserName ==\"John\":\n",
    "        print(\"Welcome John, I Have been Expecting You\")\n",
    "elif UserName ==\"Peter\":\n",
    "        print(\"Welcome Peter, I Have been Expecting You\")\n",
    "elif UserName ==\"James\":\n",
    "        print(\"Welcome James, I Have been Expecting You\")\n",
    "else:\n",
    "        print(\"I don't Know you\")"
   ]
  },
  {
   "cell_type": "markdown",
   "metadata": {},
   "source": [
    "### Program BMI"
   ]
  },
  {
   "cell_type": "code",
   "execution_count": 1,
   "metadata": {},
   "outputs": [
    {
     "name": "stdout",
     "output_type": "stream",
     "text": [
      "Enter your weight in Kg82\n",
      "Enter your height in meters1.8\n",
      "25.30864197530864\n",
      "You are overweight\n"
     ]
    }
   ],
   "source": [
    "weight = float(input(\"Enter your weight in Kg\"))\n",
    "height = float(input(\"Enter your height in meters\"))\n",
    "\n",
    "BMI = weight/height**2\n",
    "print(BMI)\n",
    "\n",
    "if BMI <18.5:\n",
    "    print(\"You are Underweight\")\n",
    "elif BMI>=18.5 and BMI<24.9:\n",
    "    print(\"Your weigth is normal\")\n",
    "elif BMI>=25 and BMI<29.9:\n",
    "    print(\"You are overweight\")\n",
    "else:\n",
    "    print(\"You are obese\")\n",
    "    "
   ]
  }
 ],
 "metadata": {
  "kernelspec": {
   "display_name": "Python 3",
   "language": "python",
   "name": "python3"
  },
  "language_info": {
   "codemirror_mode": {
    "name": "ipython",
    "version": 3
   },
   "file_extension": ".py",
   "mimetype": "text/x-python",
   "name": "python",
   "nbconvert_exporter": "python",
   "pygments_lexer": "ipython3",
   "version": "3.7.3"
  }
 },
 "nbformat": 4,
 "nbformat_minor": 2
}
